{
 "cells": [
  {
   "cell_type": "code",
   "execution_count": null,
   "id": "c09a91ae-6f89-43bc-a5bd-3e510729cb97",
   "metadata": {},
   "outputs": [
    {
     "name": "stdout",
     "output_type": "stream",
     "text": [
      "Old McDonalds had a farm E I E I O! Want to hear animal sounds?\n",
      "\n"
     ]
    },
    {
     "name": "stdin",
     "output_type": "stream",
     "text": [
      "What animal do you want? cat\n"
     ]
    },
    {
     "name": "stdout",
     "output_type": "stream",
     "text": [
      "Cat in the farm goes meow meow meow\n"
     ]
    },
    {
     "name": "stdin",
     "output_type": "stream",
     "text": [
      "DO you want to exit? sheep\n",
      "What animal do you want? sheep\n"
     ]
    },
    {
     "name": "stdout",
     "output_type": "stream",
     "text": [
      "Sheeps on the farm goes baa baa baa!\n"
     ]
    },
    {
     "name": "stdin",
     "output_type": "stream",
     "text": [
      "DO you want to exit? never\n",
      "What animal do you want? dog\n"
     ]
    },
    {
     "name": "stdout",
     "output_type": "stream",
     "text": [
      "Woof woof here and a woof there, dog goes woof woof every where!\n"
     ]
    },
    {
     "name": "stdin",
     "output_type": "stream",
     "text": [
      "DO you want to exit? no\n",
      "What animal do you want? duck\n"
     ]
    },
    {
     "name": "stdout",
     "output_type": "stream",
     "text": [
      "I don't know this animal sound.\n"
     ]
    },
    {
     "name": "stdin",
     "output_type": "stream",
     "text": [
      "DO you want to exit? no\n"
     ]
    }
   ],
   "source": [
    "print(\"Old McDonalds had a farm E I E I O! Want to hear animal sounds?\")\n",
    "print()\n",
    "exit = \"\"\n",
    "while exit != \"yes\":\n",
    "  animal = input(\"What animal do you want?\")\n",
    "  if animal == \"cow\":\n",
    "    print(\"Cow on the farm goes moo moo moo\")\n",
    "  elif animal == \"dog\":\n",
    "    print(\"Woof woof here and a woof there, dog goes woof woof every where!\")\n",
    "  elif animal == \"duck\":\n",
    "    print(\"quack quack here and a quack quack there, duck goes quack quck every where!\")\n",
    "  elif animal == \"cat\":\n",
    "    print(\"Cat in the farm goes meow meow meow\")\n",
    "  elif animal == \"sheep\":\n",
    "    print(\"Sheeps on the farm goes baa baa baa!\")\n",
    "  else:\n",
    "    print(\"I don't know this animal sound.\")\n",
    "  exit = input(\"DO you want to exit?\")"
   ]
  },
  {
   "cell_type": "code",
   "execution_count": null,
   "id": "55d3d625-bfc7-43b2-aae8-e3d636aedfd6",
   "metadata": {},
   "outputs": [],
   "source": []
  }
 ],
 "metadata": {
  "kernelspec": {
   "display_name": "Python 3 (ipykernel)",
   "language": "python",
   "name": "python3"
  },
  "language_info": {
   "codemirror_mode": {
    "name": "ipython",
    "version": 3
   },
   "file_extension": ".py",
   "mimetype": "text/x-python",
   "name": "python",
   "nbconvert_exporter": "python",
   "pygments_lexer": "ipython3",
   "version": "3.12.4"
  }
 },
 "nbformat": 4,
 "nbformat_minor": 5
}
